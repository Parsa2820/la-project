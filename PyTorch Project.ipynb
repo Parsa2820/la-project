{
  "cells": [
    {
      "cell_type": "markdown",
      "metadata": {
        "id": "v2qUM9rYj2L5"
      },
      "source": [
        "<div style=\"direction:rtl;line-height:300%;\">\n",
        "<font face=\"XB Zar\" size=5>\n",
        "<div align=center>\n",
        "    <font size=6>\n",
        "    باسمه تعالی\n",
        "    </font>\n",
        "    <br><br>\n",
        "    <font>\n",
        "    درس جبر خطی\n",
        "    <br>\n",
        "        <font size=3>\n",
        "            مدرس: حمیدرضا ربیعی، مریم رمضانی\n",
        "        </font>\n",
        "    </font>\n",
        "    <br><br>\n",
        "    <font>\n",
        "        <b> PyTorch پروژه</b>\n",
        "    </font>\n",
        "    <br>\n",
        "    <font size=3>\n",
        "     موعد تحویل: ۱۵ بهمن ۱۴۰۰ ساعت ۲۳:۵۹\n",
        "    </font>\n",
        "    <br>\n",
        "    <font size=4>\n",
        "    دستیاران آموزشی:\n",
        "        پویا اسمعیلی،\n",
        "        علی بالاپور\n",
        "    </font>\n",
        "    <br>\n",
        "        <font size=2>\n",
        "        دانشگاه صنعتی شریف\n",
        "        <br>\n",
        "        دانشکده مهندسی کامپیوتر\n",
        "    </font>\n",
        "</div>\n",
        "</font>\n",
        "</div>"
      ]
    },
    {
      "cell_type": "markdown",
      "metadata": {
        "id": "Ie0Z27UOj2MH"
      },
      "source": [
        "<div align= \"justify\" dir=\"rtl\">\n",
        "<font face=\"Calibri\" size=4>\n",
        "    <h1>مقدمه</h1>\n",
        "    هدف این پروژه تعمیق مفاهیم تدریس شده در کلاس درس  و آشنایی دانشجویان با کاربردهای جبرخطی است. برای انجام این پروژه، نکات زیر را در نظر داشته باشید:\n",
        "    <ul>\n",
        "        <li>یکی از اهداف این پروژه آشنایی بیشتر دانشجویان با توابع و مفاهیم PyTorch است. بنابراین پیاده‌سازی خواسته‌های هر سوال حتما باید با استفاده از PyTorch باشد.</li>\n",
        "        <li>انجام این پروژه به صورت انفرادی است.</li>\n",
        "        <li>در مجموع این پروژه 100 نمره بوده که سوال اول 40 نمره و سوال دوم 60 نمره دارد. توجه داشته باشید پیاده‌سازی این پروژه اختیاری بوده و نمره اختصاص شده برابر 0.8 از نمره کل است.</li>\n",
        "        <li>توجه داشته باشید که نمی‌توانید از تاخیر مجاز برای این پروژه استفاده نمایید. (به علت اختیاری بودن پروژه و همچنین نزدیک بودن ددلاین به مهلت ارسال نمرات به آموزش)</li>\n",
        "        <li>پس از ددلاین مشخص شده برای پروژه، یک جلسه کوتاه برای تحویل حضوری پروژه برگزار می‌گردد.</li>\n",
        "        <li>برای راحتی کار، توصیه می‌شود که از google colab استفاده نمایید.</li>\n",
        "        <li>\n",
        "        برای این پروژه لازم است که علاوه بر پیاده‌سازی خواسته سوال، توضیح کوتاهی در مورد نحوه عملکرد کد پیاده‌سازی‌شده نوشته شود.\n",
        "        </li>\n",
        "    </ul>\n",
        "    </font>\n",
        "</div>"
      ]
    },
    {
      "cell_type": "markdown",
      "metadata": {
        "id": "gV_5Tc2fj2MJ"
      },
      "source": [
        "<div align= \"justify\" dir=\"rtl\">\n",
        "<font face=\"Calibri\" size=3>\n",
        "    <h1>الگوریتم PCA </h1>\n",
        "</font>\n",
        "</div>"
      ]
    },
    {
      "cell_type": "markdown",
      "metadata": {
        "id": "WT1F0AZSj2MK"
      },
      "source": [
        "<div align= \"justify\" dir=\"rtl\">\n",
        "<font face=\"Calibri\" size=4>\n",
        "    در این تمرین قصد داریم که با استفاده از فریمورک PyTorch و ابزارهای آن، الگوریتم \n",
        "    <a href='https://en.wikipedia.org/wiki/Principal_component_analysis'>PCA (Principal Component Analysis)</a> را روی دیتاست Iris پیاده‌سازی کنیم.  <br>\n",
        "دیتاستی که در این قسمت در نظر گرفته‌شده، دیتاست iris است. این دیتاست شامل داده‌های سه نوع گل زنبق بوده که بر اساس 4 ویژگی، دسته‌بندی شده‌اند (در جلسات اولیه درس در مورد این دیتاست صحبت کردیم). یکی از اقدامات ابتدایی در یک پروژه مربوط به یادگیری ماشین و علوم داده، \n",
        "    <a href=''https://en.wikipedia.org/wiki/Exploratory_data_analysis>EDA(Exploratory Data Analysis)</a>\n",
        "    است. در EDA قصد داریم تا با رسم نمودارهای مختلف و استفاده از ابزارهای موجود، یک دید کلی نسبت به داده بدست بیاوریم. اما برای رسم ساده‌ترین نمودارها (مانند نمودار scatter) برای داده‌هایی که دارای بیش از دو یا سه ویژگی دارند، ممکن است دشوار باشد. برای همین از الگوریتم‌های کاهش ابعاد استفاده می‌گردد. مشهورترین الگوریتم‌ها برای این کار، PCA و t-SNE می‌باشند. <br>\n",
        "در این تمرین شما باید دیتاست \n",
        "    <a href='https://archive.ics.uci.edu/ml/datasets/iris'>Iris</a>\n",
        "    (که در فایل iris.csv قرار دارد) را به یک تنسور دو بعدی تبدیل نمایید و الگوریتم PCA را با استفاده از توابع محاسباتی و مربوط به جبرخطی پایتورچ، بر روی این تنسور پیاده‌سازی کنید. سپس نتایج به‌دست آمده را با استفاده از کتابخانه‌های مصورسازی پایتون (مانند pyplot) بر روی یک scatter plot (با اعمال برچسب هر داده) رسم کنید. <br>\n",
        "توجه داشته باشید که استفاده از هرگونه کتابخانه برای پیاده‌سازی مستقیم الگوریتم PCA مجاز نیست. \n",
        "</font>\n",
        "</div>"
      ]
    },
    {
      "cell_type": "code",
      "execution_count": 61,
      "metadata": {
        "id": "Kf0K30Slj2MM"
      },
      "outputs": [],
      "source": [
        "import pandas as pd\n",
        "import torch\n",
        "import matplotlib.pyplot as plt"
      ]
    },
    {
      "cell_type": "code",
      "execution_count": 62,
      "metadata": {},
      "outputs": [],
      "source": [
        "device = torch.device('cuda' if torch.cuda.is_available() else 'cpu')\n",
        "plt.rcParams['figure.figsize'] = (16.0, 8.0)\n",
        "pass"
      ]
    },
    {
      "cell_type": "code",
      "execution_count": 63,
      "metadata": {},
      "outputs": [],
      "source": [
        "\"\"\"\n",
        "ETL process\n",
        "Extract, Transform, Load data from CSV file to tensor\n",
        "\"\"\"\n",
        "iris_data = pd.read_csv('iris.csv')\n",
        "labels = iris_data['Species']\n",
        "iris_data.drop(columns=['Id', 'Species'], inplace=True)\n",
        "iris = torch.tensor(iris_data.values).float().to(device)\n",
        "pass"
      ]
    },
    {
      "cell_type": "code",
      "execution_count": 64,
      "metadata": {},
      "outputs": [],
      "source": [
        "\"\"\"\n",
        "Standardize the data\n",
        "In order to apply PCA, we need to standardize the data.\n",
        "This is done by moving the mean of each feature to origin and divide all features by their standard deviation.\n",
        "\"\"\"\n",
        "mean = iris.mean(dim=0)\n",
        "std = iris.std(dim=0)\n",
        "iris.sub_(mean.expand_as(iris))\n",
        "iris.div_(std.expand_as(iris))\n",
        "pass"
      ]
    },
    {
      "cell_type": "code",
      "execution_count": 65,
      "metadata": {},
      "outputs": [],
      "source": [
        "\"\"\"\n",
        "PCA \n",
        "With PCA algorithm, first we find the importance of each feature.\n",
        "Then we can reduce the dimension of the data by removing the features with the lowest importance.\n",
        "\"\"\"\n",
        "cov_matrix = iris.t().cov()\n",
        "eig_vals, eig_vecs = torch.eig(cov_matrix, eigenvectors=True)\n",
        "eig_vals = eig_vals[:, 0]\n",
        "percent_variation = eig_vals / eig_vals.sum() * 100\n",
        "pass"
      ]
    },
    {
      "cell_type": "code",
      "execution_count": 66,
      "metadata": {},
      "outputs": [
        {
          "data": {
            "image/png": "[encoded data removed]",
            "text/plain": [
              "<Figure size 1152x576 with 1 Axes>"
            ]
          },
          "metadata": {
            "needs_background": "light"
          },
          "output_type": "display_data"
        }
      ],
      "source": [
        "\"\"\"\n",
        "Plot the percentage of variation\n",
        "\"\"\"\n",
        "plt.bar(range(len(percent_variation)), percent_variation.cpu().numpy())\n",
        "pass"
      ]
    },
    {
      "cell_type": "code",
      "execution_count": 67,
      "metadata": {},
      "outputs": [],
      "source": [
        "\"\"\"\n",
        "Project the data to 2D\n",
        "\"\"\"\n",
        "pca_result = torch.linalg.matmul(iris, eig_vecs[:, :2]) \n",
        "pass"
      ]
    },
    {
      "cell_type": "code",
      "execution_count": 71,
      "metadata": {},
      "outputs": [
        {
          "data": {
            "image/png": "[encoded data removed]",
            "text/plain": [
              "<Figure size 1152x576 with 1 Axes>"
            ]
          },
          "metadata": {
            "needs_background": "light"
          },
          "output_type": "display_data"
        }
      ],
      "source": [
        "\"\"\"\n",
        "Visualization\n",
        "The result of PCA is shown by an scatter plot. \n",
        "\"\"\"\n",
        "colors = labels.map({'Iris-setosa': 'purple', 'Iris-versicolor': 'green', 'Iris-virginica': 'orange'})\n",
        "plt.scatter(pca_result[:, 0], pca_result[:, 1], c=colors)\n",
        "plt.show()\n",
        "pass"
      ]
    },
    {
      "cell_type": "markdown",
      "metadata": {
        "id": "quSZ9Ea-j2MP"
      },
      "source": [
        "<div align= \"justify\" dir=\"rtl\">\n",
        "<font face=\"Calibri\" size=3>\n",
        "    <h1>سیستم توصیه‌گر (Recommender System)</h1>\n",
        "</font>\n",
        "</div>"
      ]
    },
    {
      "cell_type": "markdown",
      "metadata": {
        "id": "SltwmPLRj2MP"
      },
      "source": [
        "<div align= \"justify\" dir=\"rtl\">\n",
        "<font face=\"Calibri\" size=4>\n",
        "در این تمرین قصد داریم که با استفاده از فریمورک PyTorch و ابزارهای آن، یک سیستم توصیه‌گر (یا recommender system) ساده را پیاده‌سازی کنیم.\n",
        "<br> \n",
        "برای پیاده‌سازی این سیستم، شما یک جدول از امتیاز کاربران (از ۱ تا ۵) به فیلم‌ها دارید (در فایل ratings.csv). ستون‌های این جدول، شناسه‌ی کاربر، شناسه‌ی فیلم و امتیاز هستند. برای استفاده از این داده‌ها باید آن‌ها را تبدیل به ماتریسی از امتیاز هر کاربر به هر فیلم کنید. البته باید توجه کنید بیشتر درایه‌های این ماتریس نامشخص (امتیاز صفر) بوده و لازم است به جای ‌ان‌ها یک عدد قرار دهید. در ادامه روش‌های مختلف پر کردن این درایه‌ها توضیح داده می‌شود.\n",
        "<br>\n",
        "برای بررسی عملکرد سیستم، \n",
        "<!-- لازم است ابتدا تعدادی از داده‌های اولیه جدا شوند. بنابراین ۱۰ درصد از سطرهای جدول اولیه را به طور رندوم جدا کرده و از جدول حذف کنید. حال -->\n",
        " سیستم توصیه‌گر شما با یادگیری داده‌ها، امتیازی از طرف هر کاربر به هر فیلم نسبت می‌دهد. اگر این امتیازها را $y$ نامیده و امتیاز‌های حذف شده از جدول اولیه $\\hat{y}$ باشند، خطای سیستم به صورت\n",
        "$$E = \\Sigma_i (y - \\hat{y})^2$$\n",
        "تعریف می‌شود. برای هر یک از راه‌حل‌های خود، این خطا را برای خانه‌هایی که در دیتاست اولیه مقادیر بین ۱ تا ۵ دارند، حساب کنید.\n",
        "<br>\n",
        "در طراحی سیستم می‌توانید از تجزیه‌ی SVD استفاده کنید. برای این کار باید ابتدا درایه‌های نامشخص را پر کنید. برای این کار، روش‌های زیر را امتحان کرده و خطای سیستم در هر حالت را مقایسه کنید. سپس، از بهترین روش در سیستم نهایی خود استفاده کنید.\n",
        "<ol>\n",
        "<li>قرار دادن صفر به جای همه‌ی مقادیر نامشخص</li>\n",
        "<li>قرار دادن میانگین امتیاز هر فیلم در درایه‌های نامشخص آن فیلم</li>\n",
        "<li>استفاده از میانه‌ی امتیازهای هر فیلم در درایه‌های نامشخص آن فیلم</li>\n",
        "</ol>\n",
        "<br> \n",
        "برای این تمرین لازم است که شما با استفاده از مفاهیم تدریس شده در کلاس درس و ابزارهای پایتورچ، این سیستم توصیه گر ساده را پیاده‌سازی کنید و خطای آن را محاسبه کنید. استفاده از ابزارهای pandas و matplotlib در کنار pytorch مجاز بوده و هر گونه استفاده از numpy غیر مجاز است.\n",
        "\n",
        "</font>\n",
        "</div>"
      ]
    },
    {
      "cell_type": "code",
      "execution_count": 1,
      "metadata": {},
      "outputs": [],
      "source": [
        "import pandas as pd\n",
        "import torch\n",
        "import matplotlib.pyplot as plt"
      ]
    },
    {
      "cell_type": "code",
      "execution_count": 2,
      "metadata": {},
      "outputs": [],
      "source": [
        "device = torch.device('cuda' if torch.cuda.is_available() else 'cpu')\n",
        "plt.rcParams['figure.figsize'] = (16.0, 8.0)\n",
        "pass"
      ]
    },
    {
      "cell_type": "code",
      "execution_count": 3,
      "metadata": {
        "id": "uPfJfQtAj2MU"
      },
      "outputs": [],
      "source": [
        "\"\"\"\n",
        "ETL process\n",
        "Extract, Transform, Load data from CSV file to utility matrix\n",
        "We also need to split the data into training and test sets.\n",
        "\"\"\"\n",
        "TRAIN_TEST_RATIO = 0.8\n",
        "RANDOM_SPLIT_SEED = 28202820\n",
        "\n",
        "ratings_data = pd.read_csv('ratings.csv')\n",
        "ratings_data.drop(columns=['Unnamed: 0', 'timestamp'], inplace=True)\n",
        "train_data = ratings_data.sample(frac=TRAIN_TEST_RATIO, random_state=RANDOM_SPLIT_SEED)\n",
        "test_data = ratings_data.drop(train_data.index)\n",
        "movies = ratings_data['movieId'].unique()\n",
        "users = ratings_data['userId'].unique()\n",
        "utility_data = pd.DataFrame(index=users, columns=movies)\n",
        "\n",
        "for rating in train_data.itertuples():\n",
        "    utility_data.loc[rating.userId, rating.movieId] = rating.rating"
      ]
    },
    {
      "cell_type": "code",
      "execution_count": 4,
      "metadata": {},
      "outputs": [],
      "source": [
        "\"\"\"\n",
        "Fill missing values\n",
        "In order to use svd decomposition, we should not have NaN values in the utility matrix.\n",
        "Since we should fill the missing values multiple times, we introduce method for each and write reusable code in the next part.\n",
        "\"\"\"\n",
        "def zero_fill(dataframe):\n",
        "    dataframe.fillna(0)\n",
        "    return dataframe\n",
        "\n",
        "def mean_fill(dataframe):\n",
        "    for column in dataframe:\n",
        "        mean = dataframe[column].mean()\n",
        "        dataframe[column] = dataframe[column].fillna(mean)\n",
        "    return dataframe\n",
        "\n",
        "def median_fill(dataframe):\n",
        "    for column in dataframe:\n",
        "        median = dataframe[column].median()\n",
        "        dataframe[column] = dataframe[column].fillna(median)\n",
        "    return dataframe\n",
        "\n",
        "def dataframe_to_tensor(dataframe):\n",
        "    return torch.tensor(dataframe.values.astype(float)).float().to(device)"
      ]
    },
    {
      "cell_type": "code",
      "execution_count": 10,
      "metadata": {},
      "outputs": [],
      "source": [
        "\"\"\"\n",
        "Collaborative Filtering\n",
        "We should use the utility matrix decomposition to predict unknown ratings.\n",
        "This is called collaborative filtering.\n",
        "Here we use the SVD decomposition to find the missing ratings.\n",
        "\"\"\"\n",
        "def collaborative_filtering(utility_data, fill_method):\n",
        "    filled_utility_data = fill_method(utility_data)\n",
        "    utility_matrix = dataframe_to_tensor(filled_utility_data)\n",
        "    u, s, v = torch.svd(utility_matrix)\n",
        "    return torch.matmul(torch.matmul(u, torch.diag(s)), v.t())"
      ]
    },
    {
      "cell_type": "code",
      "execution_count": 6,
      "metadata": {},
      "outputs": [],
      "source": [
        "\"\"\"\n",
        "Evaluation\n",
        "We use sum of squared error to evaluate the performance of the algorithm.\n",
        "\"\"\"\n",
        "def evaluate(prediction_matrix: torch.tensor, test_data: pd.DataFrame):\n",
        "    error = 0\n",
        "    for user, movie, rating in test_data.itertuples():\n",
        "        prediction = prediction_matrix[user, movie]\n",
        "        error += (prediction - rating)**2\n",
        "    return error"
      ]
    },
    {
      "cell_type": "code",
      "execution_count": 11,
      "metadata": {},
      "outputs": [
        {
          "ename": "RuntimeError",
          "evalue": "svd_cpu: The algorithm failed to converge because the input matrix is ill-conditioned or has too many repeated singular values (error code: 13).",
          "output_type": "error",
          "traceback": [
            "\u001b[1;31m---------------------------------------------------------------------------\u001b[0m",
            "\u001b[1;31mRuntimeError\u001b[0m                              Traceback (most recent call last)",
            "\u001b[1;32mC:\\Users\\PBE07~1.MOH\\AppData\\Local\\Temp/ipykernel_9412/3129582747.py\u001b[0m in \u001b[0;36m<module>\u001b[1;34m\u001b[0m\n\u001b[0;32m      8\u001b[0m \u001b[1;33m\u001b[0m\u001b[0m\n\u001b[0;32m      9\u001b[0m \u001b[1;32mfor\u001b[0m \u001b[0mfill_method\u001b[0m \u001b[1;32min\u001b[0m \u001b[0mfill_methods\u001b[0m\u001b[1;33m:\u001b[0m\u001b[1;33m\u001b[0m\u001b[1;33m\u001b[0m\u001b[0m\n\u001b[1;32m---> 10\u001b[1;33m     \u001b[0mprediction_matrix\u001b[0m \u001b[1;33m=\u001b[0m \u001b[0mcollaborative_filtering\u001b[0m\u001b[1;33m(\u001b[0m\u001b[0mutility_data\u001b[0m\u001b[1;33m,\u001b[0m \u001b[0mfill_method\u001b[0m\u001b[1;33m)\u001b[0m\u001b[1;33m\u001b[0m\u001b[1;33m\u001b[0m\u001b[0m\n\u001b[0m\u001b[0;32m     11\u001b[0m     \u001b[0me\u001b[0m \u001b[1;33m=\u001b[0m \u001b[0mevaluate\u001b[0m\u001b[1;33m(\u001b[0m\u001b[0mprediction_matrix\u001b[0m\u001b[1;33m,\u001b[0m \u001b[0mtest_data\u001b[0m\u001b[1;33m)\u001b[0m\u001b[1;33m\u001b[0m\u001b[1;33m\u001b[0m\u001b[0m\n\u001b[0;32m     12\u001b[0m     \u001b[0merrors\u001b[0m\u001b[1;33m.\u001b[0m\u001b[0mappend\u001b[0m\u001b[1;33m(\u001b[0m\u001b[1;33m)\u001b[0m\u001b[1;33m\u001b[0m\u001b[1;33m\u001b[0m\u001b[0m\n",
            "\u001b[1;32mC:\\Users\\PBE07~1.MOH\\AppData\\Local\\Temp/ipykernel_9412/3295284868.py\u001b[0m in \u001b[0;36mcollaborative_filtering\u001b[1;34m(utility_data, fill_method)\u001b[0m\n\u001b[0;32m      8\u001b[0m     \u001b[0mfilled_utility_data\u001b[0m \u001b[1;33m=\u001b[0m \u001b[0mfill_method\u001b[0m\u001b[1;33m(\u001b[0m\u001b[0mutility_data\u001b[0m\u001b[1;33m)\u001b[0m\u001b[1;33m\u001b[0m\u001b[1;33m\u001b[0m\u001b[0m\n\u001b[0;32m      9\u001b[0m     \u001b[0mutility_matrix\u001b[0m \u001b[1;33m=\u001b[0m \u001b[0mdataframe_to_tensor\u001b[0m\u001b[1;33m(\u001b[0m\u001b[0mfilled_utility_data\u001b[0m\u001b[1;33m)\u001b[0m\u001b[1;33m\u001b[0m\u001b[1;33m\u001b[0m\u001b[0m\n\u001b[1;32m---> 10\u001b[1;33m     \u001b[0mu\u001b[0m\u001b[1;33m,\u001b[0m \u001b[0ms\u001b[0m\u001b[1;33m,\u001b[0m \u001b[0mv\u001b[0m \u001b[1;33m=\u001b[0m \u001b[0mtorch\u001b[0m\u001b[1;33m.\u001b[0m\u001b[0msvd\u001b[0m\u001b[1;33m(\u001b[0m\u001b[0mutility_matrix\u001b[0m\u001b[1;33m)\u001b[0m\u001b[1;33m\u001b[0m\u001b[1;33m\u001b[0m\u001b[0m\n\u001b[0m\u001b[0;32m     11\u001b[0m     \u001b[1;32mreturn\u001b[0m \u001b[0mtorch\u001b[0m\u001b[1;33m.\u001b[0m\u001b[0mmatmul\u001b[0m\u001b[1;33m(\u001b[0m\u001b[0mtorch\u001b[0m\u001b[1;33m.\u001b[0m\u001b[0mmatmul\u001b[0m\u001b[1;33m(\u001b[0m\u001b[0mu\u001b[0m\u001b[1;33m,\u001b[0m \u001b[0mtorch\u001b[0m\u001b[1;33m.\u001b[0m\u001b[0mdiag\u001b[0m\u001b[1;33m(\u001b[0m\u001b[0ms\u001b[0m\u001b[1;33m)\u001b[0m\u001b[1;33m)\u001b[0m\u001b[1;33m,\u001b[0m \u001b[0mv\u001b[0m\u001b[1;33m.\u001b[0m\u001b[0mt\u001b[0m\u001b[1;33m(\u001b[0m\u001b[1;33m)\u001b[0m\u001b[1;33m)\u001b[0m\u001b[1;33m\u001b[0m\u001b[1;33m\u001b[0m\u001b[0m\n",
            "\u001b[1;31mRuntimeError\u001b[0m: svd_cpu: The algorithm failed to converge because the input matrix is ill-conditioned or has too many repeated singular values (error code: 13)."
          ]
        }
      ],
      "source": [
        "\"\"\"\n",
        "Determine the best fill method\n",
        "\"\"\"\n",
        "fill_methods = [zero_fill, mean_fill, median_fill]\n",
        "best_prediction_matrix = None\n",
        "best_prediction_error = float('inf')\n",
        "errors = []\n",
        "\n",
        "for fill_method in fill_methods:\n",
        "    prediction_matrix = collaborative_filtering(utility_data, fill_method)\n",
        "    e = evaluate(prediction_matrix, test_data)\n",
        "    errors.append()\n",
        "    if e < best_prediction_error:\n",
        "        best_prediction_matrix = prediction_matrix\n",
        "        best_prediction_error = e\n",
        "\n",
        "plt.bar(range(len(errors)), errors)\n",
        "plt.xticks(range(len(errors)), map(lambda x: x.__name__, fill_methods))\n",
        "plt.show()\n",
        "pass"
      ]
    },
    {
      "cell_type": "code",
      "execution_count": 56,
      "metadata": {},
      "outputs": [
        {
          "name": "stdout",
          "output_type": "stream",
          "text": [
            "tensor([[0., 0., 0.],\n",
            "        [0., 0., 0.],\n",
            "        [0., 0., 0.]])\n",
            "tensor([[1., 0., 0.],\n",
            "        [0., 1., 0.],\n",
            "        [0., 0., 1.]])\n",
            "tensor([0., 0., 0.])\n",
            "tensor([[1., 0., 0.],\n",
            "        [0., 1., 0.],\n",
            "        [0., 0., 1.]])\n"
          ]
        }
      ],
      "source": [
        "r = torch.zeros(3, 3)\n",
        "r[0, 0] = 0\n",
        "r[0, 1] = 0\n",
        "r[0, 2] = 0\n",
        "print(r)\n",
        "s, u, v = torch.svd(r)\n",
        "print(s)\n",
        "print(u)\n",
        "print(v)"
      ]
    }
  ],
  "metadata": {
    "colab": {
      "collapsed_sections": [],
      "name": "PyTorch Project.ipynb",
      "provenance": []
    },
    "kernelspec": {
      "display_name": "Python 3",
      "language": "python",
      "name": "python3"
    },
    "language_info": {
      "codemirror_mode": {
        "name": "ipython",
        "version": 3
      },
      "file_extension": ".py",
      "mimetype": "text/x-python",
      "name": "python",
      "nbconvert_exporter": "python",
      "pygments_lexer": "ipython3",
      "version": "3.9.1"
    }
  },
  "nbformat": 4,
  "nbformat_minor": 0
}
